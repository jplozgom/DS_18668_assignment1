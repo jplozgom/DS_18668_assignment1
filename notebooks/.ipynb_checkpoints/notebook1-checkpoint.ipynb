{
 "cells": [
  {
   "cell_type": "code",
   "execution_count": 15,
   "metadata": {},
   "outputs": [],
   "source": [
    "from enum import Enum, unique\n",
    "\n",
    "@unique\n",
    "class Smells(Enum):\n",
    "\n",
    "    \"\"\"List of available smells in the system\"\"\"\n",
    "\n",
    "    DATA_CLASS = \"data class\"\n",
    "    FEATURE_ENVY = \"feature envy\"\n",
    "    GOD_CLASS = \"god class\"\n",
    "    LONG_METHOD = \"long method\"\n",
    "\n",
    "\n",
    "    def description(self):\n",
    "        if(self.name == Smells.DATA_CLASS):\n",
    "            # https://refactoring.guru/smells/data-class\n",
    "            return \"A data class refers to a class that contains only fields and crude methods for accessing them (getters and setters). These are simply containers for data used by other classes. These classes don’t contain any additional functionality and can’t independently operate on the data that they own.\"\n",
    "        if(self.name == Smells.FEATURE_ENVY):\n",
    "            # https://refactoring.guru/smells/feature-envy\n",
    "            return \"A method accesses the data of another object more than its own data.\"\n",
    "        if(self.name == Smells.GOD_CLASS):\n",
    "            return \"A class that knows too much or does too much. Also known as large class\"\n",
    "        if(self.name == Smells.LONG_METHOD):\n",
    "            return \"A method contains too many lines of code. Usually more than 10\"\n",
    "\n",
    "    @staticmethod\n",
    "    def getList():\n",
    "        return [e.value for e in Smells]"
   ]
  },
  {
   "cell_type": "code",
   "execution_count": 16,
   "metadata": {},
   "outputs": [
    {
     "data": {
      "text/plain": [
       "['data class', 'feature envy', 'god class', 'long method']"
      ]
     },
     "execution_count": 16,
     "metadata": {},
     "output_type": "execute_result"
    }
   ],
   "source": [
    "Smells.getList()"
   ]
  },
  {
   "cell_type": "code",
   "execution_count": 17,
   "metadata": {},
   "outputs": [
    {
     "name": "stdout",
     "output_type": "stream",
     "text": [
      "None\n"
     ]
    }
   ],
   "source": [
    "print(Smells.DATA_CLASS.name)\n",
    "\n"
   ]
  },
  {
   "cell_type": "code",
   "execution_count": null,
   "metadata": {},
   "outputs": [],
   "source": []
  }
 ],
 "metadata": {
  "kernelspec": {
   "display_name": "assignment1_18668",
   "language": "python",
   "name": "assignment1_18668"
  },
  "language_info": {
   "codemirror_mode": {
    "name": "ipython",
    "version": 3
   },
   "file_extension": ".py",
   "mimetype": "text/x-python",
   "name": "python",
   "nbconvert_exporter": "python",
   "pygments_lexer": "ipython3",
   "version": "3.6.12"
  }
 },
 "nbformat": 4,
 "nbformat_minor": 2
}
